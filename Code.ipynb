{
 "cells": [
  {
   "cell_type": "code",
   "execution_count": 1,
   "id": "38abbf00-aa71-4560-bd32-da95fd6dbb76",
   "metadata": {},
   "outputs": [],
   "source": [
    "import pandas as pd\n",
    "import numpy as np\n",
    "from sklearn.preprocessing import MinMaxScaler\n",
    "import geopandas as gpd\n",
    "from geopy.distance import geodesic\n",
    "import matplotlib.pyplot as plt\n",
    "import contextily as ctx\n",
    "from geopy.distance import geodesic\n",
    "from esda.moran import Moran\n",
    "from libpysal.weights import Queen\n",
    "from splot.esda import moran_scatterplot, plot_moran\n",
    "import contextily as ctx"
   ]
  },
  {
   "cell_type": "code",
   "execution_count": 2,
   "id": "2f1fe776-c84a-44e7-9c5d-c26b1dc640cd",
   "metadata": {},
   "outputs": [],
   "source": [
    "from libpysal.weights import W, full2W\n",
    "import seaborn as sns\n",
    "from scipy import stats"
   ]
  },
  {
   "cell_type": "markdown",
   "id": "557df33d-260c-412a-9f0c-ba1daee9c0b1",
   "metadata": {},
   "source": [
    "# DE Level"
   ]
  },
  {
   "cell_type": "code",
   "execution_count": 3,
   "id": "58849629-5e87-415f-8a19-f43dc30236ba",
   "metadata": {
    "scrolled": true
   },
   "outputs": [
    {
     "data": {
      "text/html": [
       "<div>\n",
       "<style scoped>\n",
       "    .dataframe tbody tr th:only-of-type {\n",
       "        vertical-align: middle;\n",
       "    }\n",
       "\n",
       "    .dataframe tbody tr th {\n",
       "        vertical-align: top;\n",
       "    }\n",
       "\n",
       "    .dataframe thead th {\n",
       "        text-align: right;\n",
       "    }\n",
       "</style>\n",
       "<table border=\"1\" class=\"dataframe\">\n",
       "  <thead>\n",
       "    <tr style=\"text-align: right;\">\n",
       "      <th></th>\n",
       "      <th>country</th>\n",
       "      <th>country code</th>\n",
       "      <th>year</th>\n",
       "      <th>credit</th>\n",
       "      <th>broadband</th>\n",
       "      <th>telephone</th>\n",
       "      <th>GDPPC</th>\n",
       "      <th>tech</th>\n",
       "      <th>ict</th>\n",
       "      <th>internet</th>\n",
       "      <th>cellular</th>\n",
       "      <th>patent_nonresidents</th>\n",
       "      <th>patent_residents</th>\n",
       "      <th>patent</th>\n",
       "      <th>RD</th>\n",
       "      <th>researcher</th>\n",
       "      <th>education</th>\n",
       "      <th>urban</th>\n",
       "      <th>latitude</th>\n",
       "      <th>longitude</th>\n",
       "    </tr>\n",
       "  </thead>\n",
       "  <tbody>\n",
       "    <tr>\n",
       "      <th>0</th>\n",
       "      <td>Austria</td>\n",
       "      <td>AUT</td>\n",
       "      <td>2009</td>\n",
       "      <td>97.73957467</td>\n",
       "      <td>1878524</td>\n",
       "      <td>3253000</td>\n",
       "      <td>42655.19213</td>\n",
       "      <td>13.43745371</td>\n",
       "      <td>4.012334698</td>\n",
       "      <td>73.45</td>\n",
       "      <td>11434000</td>\n",
       "      <td>292</td>\n",
       "      <td>2263</td>\n",
       "      <td>2555</td>\n",
       "      <td>2.596740007</td>\n",
       "      <td>4158.864746</td>\n",
       "      <td>67.99157715</td>\n",
       "      <td>57.683</td>\n",
       "      <td>48.210033</td>\n",
       "      <td>16.363449</td>\n",
       "    </tr>\n",
       "    <tr>\n",
       "      <th>1</th>\n",
       "      <td>Austria</td>\n",
       "      <td>AUT</td>\n",
       "      <td>2010</td>\n",
       "      <td>98.52832394</td>\n",
       "      <td>2050400</td>\n",
       "      <td>3398000</td>\n",
       "      <td>43334.50896</td>\n",
       "      <td>13.70527973</td>\n",
       "      <td>3.94819967</td>\n",
       "      <td>75.17</td>\n",
       "      <td>12241000</td>\n",
       "      <td>249</td>\n",
       "      <td>2424</td>\n",
       "      <td>2673</td>\n",
       "      <td>2.726099968</td>\n",
       "      <td>4380.434082</td>\n",
       "      <td>75.04025269</td>\n",
       "      <td>57.399</td>\n",
       "      <td>48.210033</td>\n",
       "      <td>16.363449</td>\n",
       "    </tr>\n",
       "    <tr>\n",
       "      <th>2</th>\n",
       "      <td>Austria</td>\n",
       "      <td>AUT</td>\n",
       "      <td>2011</td>\n",
       "      <td>96.06109929</td>\n",
       "      <td>2097700</td>\n",
       "      <td>3388000</td>\n",
       "      <td>44451.00019</td>\n",
       "      <td>13.25532734</td>\n",
       "      <td>3.7939034</td>\n",
       "      <td>78.7399931</td>\n",
       "      <td>13022578</td>\n",
       "      <td>276</td>\n",
       "      <td>2154</td>\n",
       "      <td>2430</td>\n",
       "      <td>2.668679953</td>\n",
       "      <td>4431.666992</td>\n",
       "      <td>77.26251221</td>\n",
       "      <td>57.115</td>\n",
       "      <td>48.210033</td>\n",
       "      <td>16.363449</td>\n",
       "    </tr>\n",
       "    <tr>\n",
       "      <th>3</th>\n",
       "      <td>Austria</td>\n",
       "      <td>AUT</td>\n",
       "      <td>2012</td>\n",
       "      <td>94.22379903</td>\n",
       "      <td>2130200</td>\n",
       "      <td>3380000</td>\n",
       "      <td>44549.88170</td>\n",
       "      <td>14.54464429</td>\n",
       "      <td>3.889467798</td>\n",
       "      <td>80.02999392</td>\n",
       "      <td>13588000</td>\n",
       "      <td>294</td>\n",
       "      <td>2258</td>\n",
       "      <td>2552</td>\n",
       "      <td>2.914720058</td>\n",
       "      <td>4721.936035</td>\n",
       "      <td>79.54712677</td>\n",
       "      <td>57.147</td>\n",
       "      <td>48.210033</td>\n",
       "      <td>16.363449</td>\n",
       "    </tr>\n",
       "    <tr>\n",
       "      <th>4</th>\n",
       "      <td>Austria</td>\n",
       "      <td>AUT</td>\n",
       "      <td>2013</td>\n",
       "      <td>92.55775212</td>\n",
       "      <td>2232500</td>\n",
       "      <td>3334000</td>\n",
       "      <td>44299.37818</td>\n",
       "      <td>15.36900841</td>\n",
       "      <td>4.206127886</td>\n",
       "      <td>80.6188</td>\n",
       "      <td>13272000</td>\n",
       "      <td>244</td>\n",
       "      <td>2162</td>\n",
       "      <td>2406</td>\n",
       "      <td>2.954920053</td>\n",
       "      <td>4783.213867</td>\n",
       "      <td>80.96160126</td>\n",
       "      <td>57.336</td>\n",
       "      <td>48.210033</td>\n",
       "      <td>16.363449</td>\n",
       "    </tr>\n",
       "  </tbody>\n",
       "</table>\n",
       "</div>"
      ],
      "text/plain": [
       "   country country code  year       credit broadband telephone        GDPPC  \\\n",
       "0  Austria          AUT  2009  97.73957467   1878524   3253000  42655.19213   \n",
       "1  Austria          AUT  2010  98.52832394   2050400   3398000  43334.50896   \n",
       "2  Austria          AUT  2011  96.06109929   2097700   3388000  44451.00019   \n",
       "3  Austria          AUT  2012  94.22379903   2130200   3380000  44549.88170   \n",
       "4  Austria          AUT  2013  92.55775212   2232500   3334000  44299.37818   \n",
       "\n",
       "          tech          ict     internet  cellular patent_nonresidents  \\\n",
       "0  13.43745371  4.012334698        73.45  11434000                 292   \n",
       "1  13.70527973   3.94819967        75.17  12241000                 249   \n",
       "2  13.25532734    3.7939034   78.7399931  13022578                 276   \n",
       "3  14.54464429  3.889467798  80.02999392  13588000                 294   \n",
       "4  15.36900841  4.206127886      80.6188  13272000                 244   \n",
       "\n",
       "  patent_residents patent           RD   researcher    education   urban  \\\n",
       "0             2263   2555  2.596740007  4158.864746  67.99157715  57.683   \n",
       "1             2424   2673  2.726099968  4380.434082  75.04025269  57.399   \n",
       "2             2154   2430  2.668679953  4431.666992  77.26251221  57.115   \n",
       "3             2258   2552  2.914720058  4721.936035  79.54712677  57.147   \n",
       "4             2162   2406  2.954920053  4783.213867  80.96160126  57.336   \n",
       "\n",
       "    latitude  longitude  \n",
       "0  48.210033  16.363449  \n",
       "1  48.210033  16.363449  \n",
       "2  48.210033  16.363449  \n",
       "3  48.210033  16.363449  \n",
       "4  48.210033  16.363449  "
      ]
     },
     "execution_count": 3,
     "metadata": {},
     "output_type": "execute_result"
    }
   ],
   "source": [
    "data = pd.read_csv('data.csv')\n",
    "# Replace '..' with NaN\n",
    "data.replace('..', np.nan, inplace=True)\n",
    "\n",
    "# Drop rows with any NaN values\n",
    "data.dropna(inplace=True)\n",
    "\n",
    "# Display the first few rows of the cleaned data\n",
    "data.head()"
   ]
  },
  {
   "cell_type": "code",
   "execution_count": 4,
   "id": "fe6fa45d-af62-4dda-9443-2905ae8334be",
   "metadata": {},
   "outputs": [
    {
     "name": "stdout",
     "output_type": "stream",
     "text": [
      "<class 'pandas.core.frame.DataFrame'>\n",
      "Index: 323 entries, 0 to 426\n",
      "Data columns (total 20 columns):\n",
      " #   Column               Non-Null Count  Dtype  \n",
      "---  ------               --------------  -----  \n",
      " 0   country              323 non-null    object \n",
      " 1   country code         323 non-null    object \n",
      " 2   year                 323 non-null    int64  \n",
      " 3   credit               323 non-null    object \n",
      " 4   broadband            323 non-null    object \n",
      " 5   telephone            323 non-null    object \n",
      " 6   GDPPC                323 non-null    float64\n",
      " 7   tech                 323 non-null    object \n",
      " 8   ict                  323 non-null    object \n",
      " 9   internet             323 non-null    object \n",
      " 10  cellular             323 non-null    object \n",
      " 11  patent_nonresidents  323 non-null    object \n",
      " 12  patent_residents     323 non-null    object \n",
      " 13  patent               323 non-null    object \n",
      " 14  RD                   323 non-null    object \n",
      " 15  researcher           323 non-null    object \n",
      " 16  education            323 non-null    object \n",
      " 17  urban                323 non-null    float64\n",
      " 18  latitude             323 non-null    float64\n",
      " 19  longitude            323 non-null    float64\n",
      "dtypes: float64(4), int64(1), object(15)\n",
      "memory usage: 53.0+ KB\n"
     ]
    }
   ],
   "source": [
    "data.info()"
   ]
  },
  {
   "cell_type": "code",
   "execution_count": 5,
   "id": "e88de854-e35a-44b7-a29c-c035e49da479",
   "metadata": {},
   "outputs": [],
   "source": [
    "# Columns to be scaled\n",
    "columns_to_scale = ['broadband', 'telephone', 'internet', 'cellular', 'credit', 'ict', 'tech']"
   ]
  },
  {
   "cell_type": "code",
   "execution_count": 6,
   "id": "9ff6d52e-0486-47f1-9069-f0932de4bb83",
   "metadata": {},
   "outputs": [],
   "source": [
    "#Standardize the data\n",
    "\n",
    "scaler = MinMaxScaler()\n",
    "\n",
    "data[columns_to_scale] = scaler.fit_transform(data[columns_to_scale])"
   ]
  },
  {
   "cell_type": "code",
   "execution_count": 7,
   "id": "bcff5774-5599-401c-87ad-52700e9cd5ef",
   "metadata": {},
   "outputs": [
    {
     "name": "stdout",
     "output_type": "stream",
     "text": [
      "Entropy:\n",
      " [0.86844688 0.83082337 0.99080709 0.88288097 0.96000533 0.92744504\n",
      " 0.95413373]\n",
      "Weights:\n",
      " [0.22470137 0.28896479 0.0157021  0.20004699 0.06831351 0.12392864\n",
      " 0.0783426 ]\n"
     ]
    },
    {
     "name": "stderr",
     "output_type": "stream",
     "text": [
      "/opt/conda/lib/python3.11/site-packages/pandas/core/internals/blocks.py:366: RuntimeWarning: divide by zero encountered in log\n",
      "  result = func(self.values, **kwargs)\n"
     ]
    }
   ],
   "source": [
    "# Calculate entropy\n",
    "def calculate_entropy(data):\n",
    "    P = data / data.sum(axis=0)  # Calculate the probability distribution\n",
    "    E = -np.nansum(P * np.log(P), axis=0) / np.log(len(data))  # entropy\n",
    "    return E\n",
    "\n",
    "# Calculate weights\n",
    "def calculate_weights(entropy):\n",
    "    d = 1 - entropy  # Calculate the degree of diversification\n",
    "    w = d / d.sum()  # Calculate weights\n",
    "    return w\n",
    "\n",
    "# Calculate the entropy for each indicator\n",
    "entropy = calculate_entropy(data[columns_to_scale])\n",
    "\n",
    "# Calculate the weights for each indicator\n",
    "weights = calculate_weights(entropy)\n",
    "\n",
    "\n",
    "print(\"Entropy:\\n\", entropy)\n",
    "print(\"Weights:\\n\", weights)"
   ]
  },
  {
   "cell_type": "code",
   "execution_count": 8,
   "id": "03c9239c-1f96-438f-8182-8a7ec14a3746",
   "metadata": {},
   "outputs": [
    {
     "name": "stdout",
     "output_type": "stream",
     "text": [
      "   country country code  year    credit  broadband  telephone        GDPPC  \\\n",
      "0  Austria          AUT  2009  0.317835   0.048002   0.063101  42655.19213   \n",
      "1  Austria          AUT  2010  0.321264   0.052676   0.066090  43334.50896   \n",
      "2  Austria          AUT  2011  0.310539   0.053963   0.065884  44451.00019   \n",
      "3  Austria          AUT  2012  0.302552   0.054847   0.065719  44549.88170   \n",
      "4  Austria          AUT  2013  0.295310   0.057629   0.064771  44299.37818   \n",
      "\n",
      "       tech       ict  internet  ...  patent_nonresidents patent_residents  \\\n",
      "0  0.194601  0.078775  0.590545  ...                  292             2263   \n",
      "1  0.200837  0.077232  0.618109  ...                  249             2424   \n",
      "2  0.190360  0.073521  0.675320  ...                  276             2154   \n",
      "3  0.220381  0.075819  0.695993  ...                  294             2258   \n",
      "4  0.239576  0.083436  0.705429  ...                  244             2162   \n",
      "\n",
      "  patent           RD   researcher    education   urban   latitude  longitude  \\\n",
      "0   2555  2.596740007  4158.864746  67.99157715  57.683  48.210033  16.363449   \n",
      "1   2673  2.726099968  4380.434082  75.04025269  57.399  48.210033  16.363449   \n",
      "2   2430  2.668679953  4431.666992  77.26251221  57.115  48.210033  16.363449   \n",
      "3   2552  2.914720058  4721.936035  79.54712677  57.147  48.210033  16.363449   \n",
      "4   2406  2.954920053  4783.213867  80.96160126  57.336  48.210033  16.363449   \n",
      "\n",
      "   DE_index  \n",
      "0  0.105172  \n",
      "1  0.109528  \n",
      "2  0.110073  \n",
      "3  0.113675  \n",
      "4  0.115549  \n",
      "\n",
      "[5 rows x 21 columns]\n"
     ]
    }
   ],
   "source": [
    "# Compute the comprehensive DE score\n",
    "data['DE_index'] = data[columns_to_scale].dot(weights)\n",
    "\n",
    "print(data.head())"
   ]
  },
  {
   "cell_type": "code",
   "execution_count": 9,
   "id": "b65a423e-a8e9-4eb6-8dc0-2c6e6afe49b4",
   "metadata": {},
   "outputs": [],
   "source": [
    "# Save the results to a CSV file\n",
    "data.to_csv('DE_Level.csv', index=False)"
   ]
  },
  {
   "cell_type": "markdown",
   "id": "216868f4-bd93-4170-aaf5-74113ee660e4",
   "metadata": {},
   "source": [
    "# Spatial Autocorrelation"
   ]
  },
  {
   "cell_type": "markdown",
   "id": "dacd68e6-85e7-41c2-9dd6-04346f3abc9c",
   "metadata": {},
   "source": [
    "## Weight matrix"
   ]
  },
  {
   "cell_type": "markdown",
   "id": "5e5c93da-65e3-4744-8725-0e79d8274656",
   "metadata": {},
   "source": [
    "### 1.Geographical Distance Matrix"
   ]
  },
  {
   "cell_type": "code",
   "execution_count": 10,
   "id": "b127c900-87e2-408c-b4ee-f5e439869b75",
   "metadata": {},
   "outputs": [],
   "source": [
    "# Extract the country names and coordinates\n",
    "countries = data['country']\n",
    "coordinates = data[['latitude', 'longitude']].values"
   ]
  },
  {
   "cell_type": "code",
   "execution_count": 11,
   "id": "8f82f7f8-6ad8-4dda-af95-7b8e66397265",
   "metadata": {},
   "outputs": [],
   "source": [
    "# Calculate the geographical distance matrix\n",
    "num_countries = len(countries)\n",
    "distances = np.zeros((num_countries, num_countries))\n",
    "\n",
    "for i in range(num_countries):\n",
    "    for j in range(num_countries):\n",
    "        if i != j:\n",
    "            distances[i, j] = geodesic(coordinates[i], coordinates[j]).kilometers\n",
    "        else:\n",
    "            distances[i, j] = 0  # Distance to itself is 0"
   ]
  },
  {
   "cell_type": "code",
   "execution_count": 12,
   "id": "df83eeab-aa23-41e3-9182-1a0a4af1b6e6",
   "metadata": {},
   "outputs": [
    {
     "name": "stdout",
     "output_type": "stream",
     "text": [
      "Geographical Distance Matrix:\n",
      "[[1.00000000e-05 1.00000000e-05 1.00000000e-05 ... 1.24256409e+03\n",
      "  6.84852340e+02 6.84852340e+02]\n",
      " [1.00000000e-05 1.00000000e-05 1.00000000e-05 ... 1.24256409e+03\n",
      "  6.84852340e+02 6.84852340e+02]\n",
      " [1.00000000e-05 1.00000000e-05 1.00000000e-05 ... 1.24256409e+03\n",
      "  6.84852340e+02 6.84852340e+02]\n",
      " ...\n",
      " [1.24256409e+03 1.24256409e+03 1.24256409e+03 ... 1.00000000e-05\n",
      "  1.54608161e+03 1.54608161e+03]\n",
      " [6.84852340e+02 6.84852340e+02 6.84852340e+02 ... 1.54608161e+03\n",
      "  1.00000000e-05 1.00000000e-05]\n",
      " [6.84852340e+02 6.84852340e+02 6.84852340e+02 ... 1.54608161e+03\n",
      "  1.00000000e-05 1.00000000e-05]]\n"
     ]
    }
   ],
   "source": [
    "# Add a small value to non-diagonal zero elements to avoid infinite weights\n",
    "epsilon = 1e-5\n",
    "distances[distances == 0] = epsilon\n",
    "\n",
    "# Print the geographical distance matrix\n",
    "print(\"Geographical Distance Matrix:\")\n",
    "print(distances)"
   ]
  },
  {
   "cell_type": "code",
   "execution_count": 13,
   "id": "11ebeaaf-a57f-477b-9255-c991e9f3f45a",
   "metadata": {},
   "outputs": [],
   "source": [
    "# Construct the geographical distance weight matrix (inverse square of distances)\n",
    "W1 = np.zeros_like(distances)\n",
    "with np.errstate(divide='ignore', invalid='ignore'):\n",
    "    W1 = 1 / distances\n",
    "    W1[distances == 0] = 0  # Set diagonal to 0 to avoid division by zero\n"
   ]
  },
  {
   "cell_type": "code",
   "execution_count": 14,
   "id": "29afa19e-e5e4-4b9b-9438-ff512a22f5b0",
   "metadata": {},
   "outputs": [
    {
     "name": "stdout",
     "output_type": "stream",
     "text": [
      "Geographical Distance Weight Matrix:\n",
      "[[1.00000000e+05 1.00000000e+05 1.00000000e+05 ... 8.04787459e-04\n",
      "  1.46016877e-03 1.46016877e-03]\n",
      " [1.00000000e+05 1.00000000e+05 1.00000000e+05 ... 8.04787459e-04\n",
      "  1.46016877e-03 1.46016877e-03]\n",
      " [1.00000000e+05 1.00000000e+05 1.00000000e+05 ... 8.04787459e-04\n",
      "  1.46016877e-03 1.46016877e-03]\n",
      " ...\n",
      " [8.04787459e-04 8.04787459e-04 8.04787459e-04 ... 1.00000000e+05\n",
      "  6.46796386e-04 6.46796386e-04]\n",
      " [1.46016877e-03 1.46016877e-03 1.46016877e-03 ... 6.46796386e-04\n",
      "  1.00000000e+05 1.00000000e+05]\n",
      " [1.46016877e-03 1.46016877e-03 1.46016877e-03 ... 6.46796386e-04\n",
      "  1.00000000e+05 1.00000000e+05]]\n"
     ]
    }
   ],
   "source": [
    "# Print the geographical distance weight matrix\n",
    "print(\"Geographical Distance Weight Matrix:\")\n",
    "print(W1)"
   ]
  },
  {
   "cell_type": "code",
   "execution_count": 15,
   "id": "9e73b635-f504-4ae7-8f4a-831f655e02a4",
   "metadata": {},
   "outputs": [],
   "source": [
    "# Save the weight matrix to a CSV file for later use\n",
    "#np.savetxt('geographical_distance_weight_matrix.csv', W1, delimiter=',')"
   ]
  },
  {
   "cell_type": "code",
   "execution_count": 16,
   "id": "9163f9b4-bd99-4ad2-88b4-aa75fc27f138",
   "metadata": {},
   "outputs": [],
   "source": [
    "#distance_matrix.csv', distances, delimiter=',')"
   ]
  },
  {
   "cell_type": "markdown",
   "id": "0d69e683-6b9a-49fb-8808-a6a42a6cd957",
   "metadata": {},
   "source": [
    "### 2.Economic Distance Matrix"
   ]
  },
  {
   "cell_type": "code",
   "execution_count": 17,
   "id": "2cfb3f69-0494-49bf-9749-a84abd0ab226",
   "metadata": {},
   "outputs": [
    {
     "name": "stdout",
     "output_type": "stream",
     "text": [
      "Economic Distance Matrix:\n",
      "[[    0.        679.31683  1795.80806 ... 12160.81372 39309.69429\n",
      "  41151.25547]\n",
      " [  679.31683     0.       1116.49123 ... 11481.49689 38630.37746\n",
      "  40471.93864]\n",
      " [ 1795.80806  1116.49123     0.      ... 10365.00566 37513.88623\n",
      "  39355.44741]\n",
      " ...\n",
      " [12160.81372 11481.49689 10365.00566 ...     0.      27148.88057\n",
      "  28990.44175]\n",
      " [39309.69429 38630.37746 37513.88623 ... 27148.88057     0.\n",
      "   1841.56118]\n",
      " [41151.25547 40471.93864 39355.44741 ... 28990.44175  1841.56118\n",
      "      0.     ]]\n"
     ]
    }
   ],
   "source": [
    "# Extract the country names and GDP per capita\n",
    "countries = data['country']\n",
    "gdp_per_capita = data['GDPPC'].values\n",
    "\n",
    "# Calculate the economic distance matrix\n",
    "num_countries = len(countries)\n",
    "economic_distances = np.zeros((num_countries, num_countries))\n",
    "\n",
    "for i in range(num_countries):\n",
    "    for j in range(num_countries):\n",
    "        if i != j:\n",
    "            economic_distances[i, j] = abs(gdp_per_capita[i] - gdp_per_capita[j])\n",
    "        else:\n",
    "            economic_distances[i, j] = 0  # Distance to itself is 0\n",
    "\n",
    "# Print the economic distance matrix\n",
    "print(\"Economic Distance Matrix:\")\n",
    "print(economic_distances)"
   ]
  },
  {
   "cell_type": "code",
   "execution_count": 18,
   "id": "8a99a207-4c8a-4299-a404-aa9516b2120a",
   "metadata": {},
   "outputs": [
    {
     "name": "stdout",
     "output_type": "stream",
     "text": [
      "Economic Distance Weight Matrix:\n",
      "[[0.00000000e+00 1.47206716e-03 5.56852384e-04 ... 8.22313394e-05\n",
      "  2.54390175e-05 2.43005952e-05]\n",
      " [1.47206716e-03 0.00000000e+00 8.95663103e-04 ... 8.70966573e-05\n",
      "  2.58863637e-05 2.47084779e-05]\n",
      " [5.56852384e-04 8.95663103e-04 0.00000000e+00 ... 9.64784808e-05\n",
      "  2.66567957e-05 2.54094431e-05]\n",
      " ...\n",
      " [8.22313394e-05 8.70966573e-05 9.64784808e-05 ... 0.00000000e+00\n",
      "  3.68339312e-05 3.44941277e-05]\n",
      " [2.54390175e-05 2.58863637e-05 2.66567957e-05 ... 3.68339312e-05\n",
      "  0.00000000e+00 5.43017528e-04]\n",
      " [2.43005952e-05 2.47084779e-05 2.54094431e-05 ... 3.44941277e-05\n",
      "  5.43017528e-04 0.00000000e+00]]\n"
     ]
    }
   ],
   "source": [
    "# Construct the economic distance weight matrix (inverse of economic distances)\n",
    "W2 = np.zeros_like(economic_distances)\n",
    "with np.errstate(divide='ignore', invalid='ignore'):\n",
    "    W2 = 1 / economic_distances\n",
    "    W2[economic_distances == 0] = 0  # Set diagonal to 0 to avoid division by zero\n",
    "\n",
    "# Print the economic distance weight matrix\n",
    "print(\"Economic Distance Weight Matrix:\")\n",
    "print(W2)"
   ]
  },
  {
   "cell_type": "markdown",
   "id": "3a3de12c-f005-49bb-898f-680759154eb3",
   "metadata": {},
   "source": [
    "### Economic-Geographical Matrix"
   ]
  },
  {
   "cell_type": "code",
   "execution_count": 19,
   "id": "82fc1dbd-b503-47a0-aa03-4836432e7f14",
   "metadata": {},
   "outputs": [],
   "source": [
    "W3 = W1 * W2"
   ]
  },
  {
   "cell_type": "code",
   "execution_count": 20,
   "id": "50f52263-1e51-464d-850a-e8ef2b598695",
   "metadata": {},
   "outputs": [],
   "source": [
    "# Calculate Moran's I using the economic-geographical weight matrix\n",
    "# Convert the economic-geographical weight matrix to a pysal weights object\n",
    "w3 = full2W(W3)\n",
    "\n",
    "moran = Moran(data['DE_index'], w3)"
   ]
  },
  {
   "cell_type": "code",
   "execution_count": 21,
   "id": "8659fa14-7bd7-4dd5-bd77-00cf49fcc48b",
   "metadata": {},
   "outputs": [
    {
     "data": {
      "image/png": "[encoded data removed]",
      "text/plain": [
       "<Figure size 1000x600 with 1 Axes>"
      ]
     },
     "metadata": {},
     "output_type": "display_data"
    }
   ],
   "source": [
    "# Manually create the Moran scatter plot\n",
    "z = (data['DE_index'] - data['DE_index'].mean()) / data['DE_index'].std()\n",
    "wz = w3.sparse @ z\n",
    "\n",
    "plt.figure(figsize=(10, 6))\n",
    "sns.regplot(x=z, y=wz, ci=None)\n",
    "plt.axhline(0, color='k', linestyle='--')\n",
    "plt.axvline(0, color='k', linestyle='--')\n",
    "plt.title(\"Moran's I Scatterplot\")\n",
    "plt.xlabel(\"DE Index (Standardized)\")\n",
    "plt.ylabel(\"Spatial Lag of DE Index\")\n",
    "plt.show()\n"
   ]
  },
  {
   "cell_type": "code",
   "execution_count": 22,
   "id": "f0f8dadb-e58b-4380-9979-a384c1f6540b",
   "metadata": {},
   "outputs": [],
   "source": [
    "%matplotlib inline\n",
    "\n",
    "import matplotlib.pyplot as plt\n",
    "from libpysal.weights.contiguity import Queen\n",
    "from libpysal import examples\n",
    "import numpy as np\n",
    "import pandas as pd\n",
    "import geopandas as gpd\n",
    "import os\n",
    "import splot\n"
   ]
  },
  {
   "cell_type": "code",
   "execution_count": 23,
   "id": "6424bbbf-1cb4-4f1d-813f-df2474fa6b54",
   "metadata": {},
   "outputs": [
    {
     "name": "stderr",
     "output_type": "stream",
     "text": [
      "/tmp/ipykernel_52497/606818346.py:4: FutureWarning: The geopandas.dataset module is deprecated and will be removed in GeoPandas 1.0. You can get the original 'naturalearth_lowres' data from https://www.naturalearthdata.com/downloads/110m-cultural-vectors/.\n",
      "  world = gpd.read_file(gpd.datasets.get_path('naturalearth_lowres'))\n"
     ]
    },
    {
     "ename": "UnidentifiedImageError",
     "evalue": "cannot identify image file <_io.BytesIO object at 0x7f49c3cc1c10>",
     "output_type": "error",
     "traceback": [
      "\u001b[0;31m---------------------------------------------------------------------------\u001b[0m",
      "\u001b[0;31mUnidentifiedImageError\u001b[0m                    Traceback (most recent call last)",
      "Cell \u001b[0;32mIn[23], line 14\u001b[0m\n\u001b[1;32m     12\u001b[0m fig, ax \u001b[38;5;241m=\u001b[39m plt\u001b[38;5;241m.\u001b[39msubplots(\u001b[38;5;241m1\u001b[39m, \u001b[38;5;241m1\u001b[39m, figsize\u001b[38;5;241m=\u001b[39m(\u001b[38;5;241m15\u001b[39m, \u001b[38;5;241m10\u001b[39m))\n\u001b[1;32m     13\u001b[0m gdf\u001b[38;5;241m.\u001b[39mplot(column\u001b[38;5;241m=\u001b[39m\u001b[38;5;124m'\u001b[39m\u001b[38;5;124mDE_index\u001b[39m\u001b[38;5;124m'\u001b[39m, ax\u001b[38;5;241m=\u001b[39max, legend\u001b[38;5;241m=\u001b[39m\u001b[38;5;28;01mTrue\u001b[39;00m, cmap\u001b[38;5;241m=\u001b[39m\u001b[38;5;124m'\u001b[39m\u001b[38;5;124mOrRd\u001b[39m\u001b[38;5;124m'\u001b[39m, legend_kwds\u001b[38;5;241m=\u001b[39m{\u001b[38;5;124m'\u001b[39m\u001b[38;5;124mlabel\u001b[39m\u001b[38;5;124m'\u001b[39m: \u001b[38;5;124m\"\u001b[39m\u001b[38;5;124mDE Index\u001b[39m\u001b[38;5;124m\"\u001b[39m})\n\u001b[0;32m---> 14\u001b[0m \u001b[43mctx\u001b[49m\u001b[38;5;241;43m.\u001b[39;49m\u001b[43madd_basemap\u001b[49m\u001b[43m(\u001b[49m\u001b[43max\u001b[49m\u001b[43m,\u001b[49m\u001b[43m \u001b[49m\u001b[43msource\u001b[49m\u001b[38;5;241;43m=\u001b[39;49m\u001b[43mctx\u001b[49m\u001b[38;5;241;43m.\u001b[39;49m\u001b[43mproviders\u001b[49m\u001b[38;5;241;43m.\u001b[39;49m\u001b[43mStamen\u001b[49m\u001b[38;5;241;43m.\u001b[39;49m\u001b[43mTonerLite\u001b[49m\u001b[43m)\u001b[49m\n\u001b[1;32m     15\u001b[0m plt\u001b[38;5;241m.\u001b[39mtitle(\u001b[38;5;124m'\u001b[39m\u001b[38;5;124mDigital Economy Index by Country\u001b[39m\u001b[38;5;124m'\u001b[39m)\n\u001b[1;32m     16\u001b[0m plt\u001b[38;5;241m.\u001b[39mshow()\n",
      "File \u001b[0;32m/opt/conda/lib/python3.11/site-packages/contextily/plotting.py:129\u001b[0m, in \u001b[0;36madd_basemap\u001b[0;34m(ax, zoom, source, interpolation, attribution, attribution_size, reset_extent, crs, resampling, **extra_imshow_args)\u001b[0m\n\u001b[1;32m    125\u001b[0m     left, right, bottom, top \u001b[38;5;241m=\u001b[39m _reproj_bb(\n\u001b[1;32m    126\u001b[0m         left, right, bottom, top, crs, {\u001b[38;5;124m\"\u001b[39m\u001b[38;5;124minit\u001b[39m\u001b[38;5;124m\"\u001b[39m: \u001b[38;5;124m\"\u001b[39m\u001b[38;5;124mepsg:3857\u001b[39m\u001b[38;5;124m\"\u001b[39m}\n\u001b[1;32m    127\u001b[0m     )\n\u001b[1;32m    128\u001b[0m \u001b[38;5;66;03m# Download image\u001b[39;00m\n\u001b[0;32m--> 129\u001b[0m image, extent \u001b[38;5;241m=\u001b[39m \u001b[43mbounds2img\u001b[49m\u001b[43m(\u001b[49m\n\u001b[1;32m    130\u001b[0m \u001b[43m    \u001b[49m\u001b[43mleft\u001b[49m\u001b[43m,\u001b[49m\u001b[43m \u001b[49m\u001b[43mbottom\u001b[49m\u001b[43m,\u001b[49m\u001b[43m \u001b[49m\u001b[43mright\u001b[49m\u001b[43m,\u001b[49m\u001b[43m \u001b[49m\u001b[43mtop\u001b[49m\u001b[43m,\u001b[49m\u001b[43m \u001b[49m\u001b[43mzoom\u001b[49m\u001b[38;5;241;43m=\u001b[39;49m\u001b[43mzoom\u001b[49m\u001b[43m,\u001b[49m\u001b[43m \u001b[49m\u001b[43msource\u001b[49m\u001b[38;5;241;43m=\u001b[39;49m\u001b[43msource\u001b[49m\u001b[43m,\u001b[49m\u001b[43m \u001b[49m\u001b[43mll\u001b[49m\u001b[38;5;241;43m=\u001b[39;49m\u001b[38;5;28;43;01mFalse\u001b[39;49;00m\n\u001b[1;32m    131\u001b[0m \u001b[43m\u001b[49m\u001b[43m)\u001b[49m\n\u001b[1;32m    132\u001b[0m \u001b[38;5;66;03m# Warping\u001b[39;00m\n\u001b[1;32m    133\u001b[0m \u001b[38;5;28;01mif\u001b[39;00m crs \u001b[38;5;129;01mis\u001b[39;00m \u001b[38;5;129;01mnot\u001b[39;00m \u001b[38;5;28;01mNone\u001b[39;00m:\n",
      "File \u001b[0;32m/opt/conda/lib/python3.11/site-packages/contextily/tile.py:222\u001b[0m, in \u001b[0;36mbounds2img\u001b[0;34m(w, s, e, n, zoom, source, ll, wait, max_retries)\u001b[0m\n\u001b[1;32m    220\u001b[0m x, y, z \u001b[38;5;241m=\u001b[39m t\u001b[38;5;241m.\u001b[39mx, t\u001b[38;5;241m.\u001b[39my, t\u001b[38;5;241m.\u001b[39mz\n\u001b[1;32m    221\u001b[0m tile_url \u001b[38;5;241m=\u001b[39m provider\u001b[38;5;241m.\u001b[39mbuild_url(x\u001b[38;5;241m=\u001b[39mx, y\u001b[38;5;241m=\u001b[39my, z\u001b[38;5;241m=\u001b[39mz)\n\u001b[0;32m--> 222\u001b[0m image \u001b[38;5;241m=\u001b[39m \u001b[43m_fetch_tile\u001b[49m\u001b[43m(\u001b[49m\u001b[43mtile_url\u001b[49m\u001b[43m,\u001b[49m\u001b[43m \u001b[49m\u001b[43mwait\u001b[49m\u001b[43m,\u001b[49m\u001b[43m \u001b[49m\u001b[43mmax_retries\u001b[49m\u001b[43m)\u001b[49m\n\u001b[1;32m    223\u001b[0m tiles\u001b[38;5;241m.\u001b[39mappend(t)\n\u001b[1;32m    224\u001b[0m arrays\u001b[38;5;241m.\u001b[39mappend(image)\n",
      "File \u001b[0;32m/opt/conda/lib/python3.11/site-packages/joblib/memory.py:655\u001b[0m, in \u001b[0;36mMemorizedFunc.__call__\u001b[0;34m(self, *args, **kwargs)\u001b[0m\n\u001b[1;32m    654\u001b[0m \u001b[38;5;28;01mdef\u001b[39;00m \u001b[38;5;21m__call__\u001b[39m(\u001b[38;5;28mself\u001b[39m, \u001b[38;5;241m*\u001b[39margs, \u001b[38;5;241m*\u001b[39m\u001b[38;5;241m*\u001b[39mkwargs):\n\u001b[0;32m--> 655\u001b[0m     \u001b[38;5;28;01mreturn\u001b[39;00m \u001b[38;5;28;43mself\u001b[39;49m\u001b[38;5;241;43m.\u001b[39;49m\u001b[43m_cached_call\u001b[49m\u001b[43m(\u001b[49m\u001b[43margs\u001b[49m\u001b[43m,\u001b[49m\u001b[43m \u001b[49m\u001b[43mkwargs\u001b[49m\u001b[43m)\u001b[49m[\u001b[38;5;241m0\u001b[39m]\n",
      "File \u001b[0;32m/opt/conda/lib/python3.11/site-packages/joblib/memory.py:598\u001b[0m, in \u001b[0;36mMemorizedFunc._cached_call\u001b[0;34m(self, args, kwargs, shelving)\u001b[0m\n\u001b[1;32m    595\u001b[0m     must_call \u001b[38;5;241m=\u001b[39m \u001b[38;5;28;01mTrue\u001b[39;00m\n\u001b[1;32m    597\u001b[0m \u001b[38;5;28;01mif\u001b[39;00m must_call:\n\u001b[0;32m--> 598\u001b[0m     out, metadata \u001b[38;5;241m=\u001b[39m \u001b[38;5;28;43mself\u001b[39;49m\u001b[38;5;241;43m.\u001b[39;49m\u001b[43mcall\u001b[49m\u001b[43m(\u001b[49m\u001b[38;5;241;43m*\u001b[39;49m\u001b[43margs\u001b[49m\u001b[43m,\u001b[49m\u001b[43m \u001b[49m\u001b[38;5;241;43m*\u001b[39;49m\u001b[38;5;241;43m*\u001b[39;49m\u001b[43mkwargs\u001b[49m\u001b[43m)\u001b[49m\n\u001b[1;32m    599\u001b[0m     \u001b[38;5;28;01mif\u001b[39;00m \u001b[38;5;28mself\u001b[39m\u001b[38;5;241m.\u001b[39mmmap_mode \u001b[38;5;129;01mis\u001b[39;00m \u001b[38;5;129;01mnot\u001b[39;00m \u001b[38;5;28;01mNone\u001b[39;00m:\n\u001b[1;32m    600\u001b[0m         \u001b[38;5;66;03m# Memmap the output at the first call to be consistent with\u001b[39;00m\n\u001b[1;32m    601\u001b[0m         \u001b[38;5;66;03m# later calls\u001b[39;00m\n\u001b[1;32m    602\u001b[0m         \u001b[38;5;28;01mif\u001b[39;00m \u001b[38;5;28mself\u001b[39m\u001b[38;5;241m.\u001b[39m_verbose:\n",
      "File \u001b[0;32m/opt/conda/lib/python3.11/site-packages/joblib/memory.py:856\u001b[0m, in \u001b[0;36mMemorizedFunc.call\u001b[0;34m(self, *args, **kwargs)\u001b[0m\n\u001b[1;32m    854\u001b[0m \u001b[38;5;28;01mif\u001b[39;00m \u001b[38;5;28mself\u001b[39m\u001b[38;5;241m.\u001b[39m_verbose \u001b[38;5;241m>\u001b[39m \u001b[38;5;241m0\u001b[39m:\n\u001b[1;32m    855\u001b[0m     \u001b[38;5;28mprint\u001b[39m(format_call(\u001b[38;5;28mself\u001b[39m\u001b[38;5;241m.\u001b[39mfunc, args, kwargs))\n\u001b[0;32m--> 856\u001b[0m output \u001b[38;5;241m=\u001b[39m \u001b[38;5;28;43mself\u001b[39;49m\u001b[38;5;241;43m.\u001b[39;49m\u001b[43mfunc\u001b[49m\u001b[43m(\u001b[49m\u001b[38;5;241;43m*\u001b[39;49m\u001b[43margs\u001b[49m\u001b[43m,\u001b[49m\u001b[43m \u001b[49m\u001b[38;5;241;43m*\u001b[39;49m\u001b[38;5;241;43m*\u001b[39;49m\u001b[43mkwargs\u001b[49m\u001b[43m)\u001b[49m\n\u001b[1;32m    857\u001b[0m \u001b[38;5;28mself\u001b[39m\u001b[38;5;241m.\u001b[39mstore_backend\u001b[38;5;241m.\u001b[39mdump_item(\n\u001b[1;32m    858\u001b[0m     [func_id, args_id], output, verbose\u001b[38;5;241m=\u001b[39m\u001b[38;5;28mself\u001b[39m\u001b[38;5;241m.\u001b[39m_verbose)\n\u001b[1;32m    860\u001b[0m duration \u001b[38;5;241m=\u001b[39m time\u001b[38;5;241m.\u001b[39mtime() \u001b[38;5;241m-\u001b[39m start_time\n",
      "File \u001b[0;32m/opt/conda/lib/python3.11/site-packages/contextily/tile.py:254\u001b[0m, in \u001b[0;36m_fetch_tile\u001b[0;34m(tile_url, wait, max_retries)\u001b[0m\n\u001b[1;32m    252\u001b[0m request \u001b[38;5;241m=\u001b[39m _retryer(tile_url, wait, max_retries)\n\u001b[1;32m    253\u001b[0m \u001b[38;5;28;01mwith\u001b[39;00m io\u001b[38;5;241m.\u001b[39mBytesIO(request\u001b[38;5;241m.\u001b[39mcontent) \u001b[38;5;28;01mas\u001b[39;00m image_stream:\n\u001b[0;32m--> 254\u001b[0m     image \u001b[38;5;241m=\u001b[39m \u001b[43mImage\u001b[49m\u001b[38;5;241;43m.\u001b[39;49m\u001b[43mopen\u001b[49m\u001b[43m(\u001b[49m\u001b[43mimage_stream\u001b[49m\u001b[43m)\u001b[49m\u001b[38;5;241m.\u001b[39mconvert(\u001b[38;5;124m\"\u001b[39m\u001b[38;5;124mRGBA\u001b[39m\u001b[38;5;124m\"\u001b[39m)\n\u001b[1;32m    255\u001b[0m     array \u001b[38;5;241m=\u001b[39m np\u001b[38;5;241m.\u001b[39masarray(image)\n\u001b[1;32m    256\u001b[0m     image\u001b[38;5;241m.\u001b[39mclose()\n",
      "File \u001b[0;32m/opt/conda/lib/python3.11/site-packages/PIL/Image.py:3280\u001b[0m, in \u001b[0;36mopen\u001b[0;34m(fp, mode, formats)\u001b[0m\n\u001b[1;32m   3278\u001b[0m     warnings\u001b[38;5;241m.\u001b[39mwarn(message)\n\u001b[1;32m   3279\u001b[0m msg \u001b[38;5;241m=\u001b[39m \u001b[38;5;124m\"\u001b[39m\u001b[38;5;124mcannot identify image file \u001b[39m\u001b[38;5;132;01m%r\u001b[39;00m\u001b[38;5;124m\"\u001b[39m \u001b[38;5;241m%\u001b[39m (filename \u001b[38;5;28;01mif\u001b[39;00m filename \u001b[38;5;28;01melse\u001b[39;00m fp)\n\u001b[0;32m-> 3280\u001b[0m \u001b[38;5;28;01mraise\u001b[39;00m UnidentifiedImageError(msg)\n",
      "\u001b[0;31mUnidentifiedImageError\u001b[0m: cannot identify image file <_io.BytesIO object at 0x7f49c3cc1c10>"
     ]
    },
    {
     "data": {
      "image/png": "[encoded data removed]",
      "text/plain": [
       "<Figure size 1500x1000 with 2 Axes>"
      ]
     },
     "metadata": {},
     "output_type": "display_data"
    }
   ],
   "source": [
    "# Visualize the countries on a map\n",
    "# Assuming 'geometry' column in data contains the geometry of each country\n",
    "# If not, you need to merge with a world map data\n",
    "world = gpd.read_file(gpd.datasets.get_path('naturalearth_lowres'))\n",
    "world = world[world.name.isin(countries)]\n",
    "world = world.merge(data, left_on='name', right_on='country')\n",
    "\n",
    "# Create a GeoDataFrame\n",
    "gdf = gpd.GeoDataFrame(world, geometry='geometry')\n",
    "\n",
    "# Plot the countries with DE index\n",
    "fig, ax = plt.subplots(1, 1, figsize=(15, 10))\n",
    "gdf.plot(column='DE_index', ax=ax, legend=True, cmap='OrRd', legend_kwds={'label': \"DE Index\"})\n",
    "ctx.add_basemap(ax, source=ctx.providers.Stamen.TonerLite)\n",
    "plt.title('Digital Economy Index by Country')\n",
    "plt.show()\n"
   ]
  },
  {
   "cell_type": "code",
   "execution_count": null,
   "id": "738efa87-6ff0-4dbc-82b3-1613e6de65cf",
   "metadata": {},
   "outputs": [],
   "source": [
    "# 读取欧洲地图的地理数据\n",
    "# 使用Natural Earth数据集\n",
    "world = gpd.read_file(gpd.datasets.get_path('naturalearth_lowres'))\n",
    "\n",
    "# 过滤出欧洲国家\n",
    "europe = world[world['continent'] == 'Europe']\n",
    "\n",
    "# 检查数据中国家名称与地理数据中的名称是否一致\n",
    "print(europe[['name']])\n",
    "\n",
    "# 获取所有年份\n",
    "years = data['year'].unique()\n",
    "\n",
    "# 创建子图\n",
    "fig, axs = plt.subplots(1, len(years), figsize=(20, 10), constrained_layout=True)\n",
    "\n",
    "for i, year in enumerate(years):\n",
    "    # 过滤出特定年份的数据\n",
    "    data_year = data[data['year'] == year]\n",
    "    \n",
    "    # 合并数据\n",
    "    data_year.rename(columns={'country': 'name'}, inplace=True)\n",
    "    europe_year = europe.merge(data_year, on='name')\n",
    "    \n",
    "    # 创建一个GeoDataFrame\n",
    "    gdf = gpd.GeoDataFrame(europe_year, geometry='geometry')\n",
    "    \n",
    "    # 绘制地图\n",
    "    gdf.plot(column='DE_index', ax=axs[i], legend=True, cmap='OrRd',\n",
    "             legend_kwds={'label': \"DE Index\"})\n",
    "    ctx.add_basemap(axs[i], source=ctx.providers.Stamen.TonerLite, zoom=4)\n",
    "    axs[i].set_title(f'DE Index in {year}')\n",
    "    axs[i].axis('off')\n",
    "\n",
    "plt.suptitle('Digital Economy Index by Country in Europe Over the Years')\n",
    "plt.show()"
   ]
  },
  {
   "cell_type": "markdown",
   "id": "b6d33e6a-1d8b-4067-a007-856f9bd1e534",
   "metadata": {},
   "source": [
    "# Innovation Efficiency"
   ]
  },
  {
   "cell_type": "markdown",
   "id": "70cdfe2a-f7e7-4178-8d71-151db55762ff",
   "metadata": {},
   "source": [
    "## Stochastic Frontier Analysis"
   ]
  },
  {
   "cell_type": "code",
   "execution_count": 24,
   "id": "bc2861e9-e4dd-4a89-bf87-c279bf7b9514",
   "metadata": {},
   "outputs": [],
   "source": [
    "import statsmodels.api as sm"
   ]
  },
  {
   "cell_type": "code",
   "execution_count": 33,
   "id": "41b4f8f1-a97f-4d2c-9848-f78e1d773970",
   "metadata": {},
   "outputs": [
    {
     "name": "stdout",
     "output_type": "stream",
     "text": [
      "country                 object\n",
      "country code            object\n",
      "year                     int64\n",
      "credit                 float64\n",
      "broadband              float64\n",
      "telephone              float64\n",
      "GDPPC                  float64\n",
      "tech                   float64\n",
      "ict                    float64\n",
      "internet               float64\n",
      "cellular               float64\n",
      "patent_nonresidents     object\n",
      "patent_residents        object\n",
      "patent                   int64\n",
      "RD                     float64\n",
      "researcher             float64\n",
      "education               object\n",
      "urban                  float64\n",
      "latitude               float64\n",
      "longitude              float64\n",
      "DE_index               float64\n",
      "dtype: object\n"
     ]
    }
   ],
   "source": [
    "# 转换数据类型为浮点数，并处理无法转换的值\n",
    "data['patent'] = pd.to_numeric(data['patent'], errors='coerce')\n",
    "data['RD'] = pd.to_numeric(data['RD'], errors='coerce')\n",
    "data['researcher'] = pd.to_numeric(data['researcher'], errors='coerce')\n",
    "\n",
    "# 查看转换后的数据类型\n",
    "print(data.dtypes)"
   ]
  },
  {
   "cell_type": "code",
   "execution_count": 34,
   "id": "047576f0-0554-4426-9c3c-5569e2d6b45a",
   "metadata": {},
   "outputs": [],
   "source": [
    "data['ln_patent'] = np.log(data['patent'])\n",
    "data['ln_RD'] = np.log(data['RD'])\n",
    "data['ln_researcher'] = np.log(data['researcher'])"
   ]
  },
  {
   "cell_type": "code",
   "execution_count": 35,
   "id": "b36b21ac-dbb3-46b8-99f0-7f9f20a61536",
   "metadata": {},
   "outputs": [
    {
     "name": "stdout",
     "output_type": "stream",
     "text": [
      "   ln_patent     ln_RD  ln_researcher\n",
      "0   7.845808  0.954257       8.332997\n",
      "1   7.890957  1.002872       8.384903\n",
      "2   7.795647  0.981584       8.396531\n",
      "3   7.844633  1.069774       8.459974\n",
      "4   7.785721  1.083472       8.472868\n"
     ]
    }
   ],
   "source": [
    "# 查看预处理后的数据\n",
    "print(data[['ln_patent', 'ln_RD', 'ln_researcher']].head())"
   ]
  },
  {
   "cell_type": "code",
   "execution_count": 36,
   "id": "e596db80-5fbd-4b29-99c1-f5406c6d618c",
   "metadata": {},
   "outputs": [
    {
     "name": "stdout",
     "output_type": "stream",
     "text": [
      "                            OLS Regression Results                            \n",
      "==============================================================================\n",
      "Dep. Variable:              ln_patent   R-squared:                       0.377\n",
      "Model:                            OLS   Adj. R-squared:                  0.373\n",
      "Method:                 Least Squares   F-statistic:                     96.71\n",
      "Date:                Wed, 24 Jul 2024   Prob (F-statistic):           1.40e-33\n",
      "Time:                        14:44:35   Log-Likelihood:                -601.95\n",
      "No. Observations:                 323   AIC:                             1210.\n",
      "Df Residuals:                     320   BIC:                             1221.\n",
      "Df Model:                           2                                         \n",
      "Covariance Type:            nonrobust                                         \n",
      "=================================================================================\n",
      "                    coef    std err          t      P>|t|      [0.025      0.975]\n",
      "---------------------------------------------------------------------------------\n",
      "const            20.0132      2.745      7.291      0.000      14.613      25.414\n",
      "ln_RD             3.3851      0.326     10.390      0.000       2.744       4.026\n",
      "ln_researcher    -1.7964      0.351     -5.125      0.000      -2.486      -1.107\n",
      "==============================================================================\n",
      "Omnibus:                       13.165   Durbin-Watson:                   0.184\n",
      "Prob(Omnibus):                  0.001   Jarque-Bera (JB):               13.615\n",
      "Skew:                          -0.487   Prob(JB):                      0.00111\n",
      "Kurtosis:                       3.251   Cond. No.                         261.\n",
      "==============================================================================\n",
      "\n",
      "Notes:\n",
      "[1] Standard Errors assume that the covariance matrix of the errors is correctly specified.\n",
      "     patent       RD   researcher  Efficiency\n",
      "0      2555  2.59674  4158.864746    1.731498\n",
      "1      2673  2.72610  4380.434082    1.790592\n",
      "2      2430  2.66868  4431.666992    1.796015\n",
      "3      2552  2.91472  4721.936035    2.136974\n",
      "4      2406  2.95492  4783.213867    2.374226\n",
      "..      ...      ...          ...         ...\n",
      "415    2190  3.38758  7697.835938    1.619991\n",
      "416    2196  3.48960  7759.499023    1.802743\n",
      "417    2196  3.41743  8130.791016    1.478405\n",
      "423    2988  2.87457  4499.331543    1.837111\n",
      "426    1923  3.07832  5310.237305    2.970658\n",
      "\n",
      "[323 rows x 4 columns]\n"
     ]
    }
   ],
   "source": [
    "# 设置自变量和因变量\n",
    "X = data[['ln_RD', 'ln_researcher']]\n",
    "y = data['ln_patent']\n",
    "\n",
    "# 添加常数项\n",
    "X = sm.add_constant(X)\n",
    "\n",
    "# 拟合普通最小二乘法（OLS）模型\n",
    "ols_model = sm.OLS(y, X).fit()\n",
    "\n",
    "# 输出模型结果\n",
    "print(ols_model.summary())\n",
    "\n",
    "# 残差即为u + v\n",
    "residuals = ols_model.resid\n",
    "\n",
    "# 这里假设v服从正态分布，u服从正态分布的截断分布\n",
    "# 使用最大似然估计来分离u和v，计算技术效率\n",
    "# 我们将使用一个简单的截断正态分布的MLE估计\n",
    "\n",
    "def log_likelihood(params):\n",
    "    sigma_v, sigma_u = params\n",
    "    n = len(residuals)\n",
    "    ll = -n * np.log(sigma_v) - n * np.log(sigma_u) - np.sum((residuals / (sigma_v + sigma_u))**2)\n",
    "    return -ll\n",
    "\n",
    "from scipy.optimize import minimize\n",
    "\n",
    "result = minimize(log_likelihood, [1, 1], bounds=((1e-6, None), (1e-6, None)))\n",
    "sigma_v, sigma_u = result.x\n",
    "\n",
    "# 计算技术效率\n",
    "data['Efficiency'] = np.exp(-residuals / sigma_u)\n",
    "\n",
    "# 查看带有效率得分的数据\n",
    "print(data[['patent', 'RD', 'researcher', 'Efficiency']])\n"
   ]
  },
  {
   "cell_type": "code",
   "execution_count": null,
   "id": "7874f8bc-af8e-4de3-ac15-eeb56fc9dd9f",
   "metadata": {},
   "outputs": [],
   "source": []
  }
 ],
 "metadata": {
  "kernelspec": {
   "display_name": "Python 3 (ipykernel)",
   "language": "python",
   "name": "python3"
  },
  "language_info": {
   "codemirror_mode": {
    "name": "ipython",
    "version": 3
   },
   "file_extension": ".py",
   "mimetype": "text/x-python",
   "name": "python",
   "nbconvert_exporter": "python",
   "pygments_lexer": "ipython3",
   "version": "3.11.5"
  }
 },
 "nbformat": 4,
 "nbformat_minor": 5
}
